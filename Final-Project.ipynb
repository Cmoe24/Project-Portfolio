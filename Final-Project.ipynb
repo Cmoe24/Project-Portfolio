{
 "cells": [
  {
   "cell_type": "markdown",
   "id": "b880ca88",
   "metadata": {},
   "source": [
    "# Final Project - Improved Curveball"
   ]
  },
  {
   "cell_type": "markdown",
   "id": "2c6bdc7b",
   "metadata": {},
   "source": [
    "Hey my name is Collin Moe, and this is the Final project from my Computational Physics class. In this project my goal was to improve upon my previous project 2 (curveball project) in which i was able to model a realistic curveball involving air resistance and drag. Because of this much of my project is the same as previous but my final goal in this was to create a spray chart of curveballs to show off the different velocity, spinrate, and spin angles and how they affect the ball on a single chart."
   ]
  },
  {
   "cell_type": "code",
   "execution_count": 22,
   "id": "3010f17b",
   "metadata": {},
   "outputs": [],
   "source": [
    "import ode #ode.py should be in the same folder as your notebook\n",
    "import numpy as np\n",
    "import matplotlib.pyplot as plt\n",
    "from vpython import * \n",
    "from scipy.linalg import eigh\n",
    "from IPython.display import display, Markdown, Latex\n",
    "from IPython.display import HTML\n",
    "from mplEasyAnimate import animation\n",
    "from tqdm import tqdm\n",
    "from base64 import b64encode"
   ]
  },
  {
   "cell_type": "markdown",
   "id": "71fbfea5",
   "metadata": {},
   "source": [
    "In this following cell is where i declare the parameters or the constants in my equations. Certain things like the cross-sectional area and the mass, as well as the gravitional constant etc."
   ]
  },
  {
   "cell_type": "code",
   "execution_count": 23,
   "id": "dade7e66",
   "metadata": {},
   "outputs": [],
   "source": [
    "#parameters\n",
    "g = 9.8 #N/kg\\\n",
    "rho = 1.2 #kg/m^3\n",
    "mu = 1.8e-5 #kg/m/s\n",
    "r = 74e-3/2 #74 mm diameter, 9.25\" in circumference\n",
    "A = np.pi*r**2 #cross-sectional area\n",
    "Cd = 0.3 #depends on speed\n",
    "m = 0.145 #kg\n",
    "\n",
    "#b2 = 1/2*Cd*rho*A #changes as Cd changes\n",
    "\n",
    "S = 0.01 #will change as omega and v change\n",
    "CL = 0 #will change with S\n",
    "#alpha = 1/2*CL*rho*A*r/S"
   ]
  },
  {
   "cell_type": "markdown",
   "id": "1fa022bb",
   "metadata": {},
   "source": [
    "# Main Function/Equations"
   ]
  },
  {
   "cell_type": "markdown",
   "id": "0774e634",
   "metadata": {},
   "source": [
    "In this following cell I use the same derivative approach throught the RK4 function in the ODE file that I have used on the previous projects. In this function I most importantly have the equations for the interactions between the ball and air and how that effects velocity and spin. For example I have the equations for the Magnus Effect as well as drag using the drag coefficient. However because this is in a 3d cordinate system i need to account for the X,Y, as well a Z axis."
   ]
  },
  {
   "cell_type": "code",
   "execution_count": 29,
   "id": "bb083c32",
   "metadata": {},
   "outputs": [],
   "source": [
    "def forcesoftheball(d, t):\n",
    "    \"\"\" Calculate and return the derivative of each quantity in an array d at the time t.\n",
    "   \n",
    "    Keyword arguments:\n",
    "    t -- time at the beginning of the time step\n",
    "    d -- an array of variables at time t\n",
    "    \"\"\"\n",
    "   \n",
    "    x = d[0]\n",
    "    y = d[1]\n",
    "    z = d[2]\n",
    "    vx = d[3]\n",
    "    vy = d[4]\n",
    "    vz = d[5]\n",
    "    \n",
    "    dxdt = vx\n",
    "    dydt = vy\n",
    "    dzdt = vz\n",
    "    \n",
    "    v = np.sqrt(vx**2 + vy**2 + vz**2)\n",
    "    \n",
    "    #drag\n",
    "    a = 0.36\n",
    "    b = 0.14\n",
    "    c = 0.27\n",
    "    vc = 34\n",
    "    chi = (v-vc)/4\n",
    "    \n",
    "    if chi < 0:\n",
    "        Cd = a + b/(1+np.exp(chi)) - c*np.exp(-chi**2)\n",
    "    else:\n",
    "        Cd = a + b/(1+np.exp(chi)) - c*np.exp(-chi**2/4)\n",
    "    \n",
    "    b2 = 1/2*Cd*rho*A\n",
    "    Fdragx = -b2*v**2*vx/v\n",
    "    Fdragy = -b2*v**2*vy/v\n",
    "    Fdragz = -b2*v**2*vz/v\n",
    "    \n",
    "    #magnus\n",
    "    omegax = d[6]\n",
    "    omegay = d[7]\n",
    "    omegaz = d[8]\n",
    "    omegamag = np.sqrt(omegax**2 + omegay**2 + omegaz**2)\n",
    "    S = r*omegamag/v\n",
    "    CL = 0.62*S**0.7\n",
    "    alpha = 1/2*CL*rho*A*r/S\n",
    "    Fmagnusx = alpha*(omegay*vz - omegaz*vy)\n",
    "    Fmagnusy = alpha*(omegaz*vx - omegax*vz)\n",
    "    Fmagnusz = alpha*(omegax*vy - omegay*vx)\n",
    "    \n",
    "    #grav\n",
    "    Fgravy = -m*g\n",
    "    \n",
    "    #Fnet\n",
    "    Fnetx = Fdragx + Fmagnusx\n",
    "    Fnety = Fdragy + Fmagnusy + Fgravy\n",
    "    Fnetz = Fdragz + Fmagnusz\n",
    "    \n",
    "    #derivative of velocity\n",
    "    dvxdt = Fnetx/m\n",
    "    dvydt = Fnety/m\n",
    "    dvzdt = Fnetz/m\n",
    "    \n",
    "    derivs = np.array([dxdt, dydt, dzdt, dvxdt, dvydt, dvzdt, 0, 0, 0])\n",
    "   \n",
    "    return derivs"
   ]
  },
  {
   "cell_type": "markdown",
   "id": "54ff3a3e",
   "metadata": {},
   "source": [
    "# The Looping"
   ]
  },
  {
   "cell_type": "markdown",
   "id": "83ddcac1",
   "metadata": {},
   "source": [
    "In this following cell I start by creating a function so that later I will be able to call this function with a set of parameters that will be the three variables that I will be changing in the future, Velocity, Spinrate, and Spin angle. following this I started declaring some of the initial variables as well as my used time step, which needed to be a very short time step due to the speed of a pitch and we need an accurate measure. I mark the Velocity at 79.3 mph an average curveball velocity, I then change that into meters per second as we will be using meters as the base measure. I also had to get the corect spin rate as well as the angle of the spin which would be 45 degrees about the x-axis so that it would be a perfect diagnol spin rate. I also create the lists needed to keep track of the variables. In the loop I call the previous function using the RK method as well to do the calculations and keep the loop going until the ball reaches the plate at 20.2 meters. Following this I graph the x and y displacement as well as the Z and y displacement."
   ]
  },
  {
   "cell_type": "code",
   "execution_count": 25,
   "id": "b1ebbfb5",
   "metadata": {},
   "outputs": [],
   "source": [
    "def runspin(spin, velo, tdeg):\n",
    "    t = 0 #time in s\n",
    "    h = .008 #time step in s\n",
    "\n",
    "    # data for pitch\n",
    "    vmag0mph = velo #mph\n",
    "    thetadeg = 1 #degx\n",
    "    spinrate = spin\n",
    "\n",
    "    # convert units and create initial conditions\n",
    "    vmag0 = vmag0mph*0.44704 #convert mph to m/s\n",
    "    theta = thetadeg*np.pi/180 #convert deg to rad\n",
    "\n",
    "    x0 = 0\n",
    "    y0 = 0\n",
    "    z0 = 0\n",
    "    vx0 = 0\n",
    "    vy0 = vmag0*np.sin(theta)   \n",
    "    vz0 = vmag0*np.cos(theta)\n",
    "\n",
    "    # initial angular speed and velocity\n",
    "    omegamag = spinrate * 2*np.pi / 60 #convert to rad/s\n",
    "    thetaomega = tdeg*pi/180\n",
    "    omega = omegamag*np.array([np.cos(thetaomega), sin(thetaomega), 0]) #omegacostheta , omegasintheta for angled pitches\n",
    "    #omega = np.array([-omegamag*np.cos(theta), -omegamag*np.sin(theta), 0])\n",
    "    # array for instanomega = np.array([-omegamag, 0, 0])taneous position and velocity data\n",
    "    data = np.array([x0, y0, z0, vx0, vy0, vz0, omega[0], omega[1], omega[2]])\n",
    "\n",
    "    # lists for storing data to graph\n",
    "    tlist = []\n",
    "    xlist = []\n",
    "    ylist = []\n",
    "    zlist = []\n",
    "\n",
    "    # store initial values\n",
    "    tlist.append(t)\n",
    "    xlist.append(x0)\n",
    "    ylist.append(y0)\n",
    "    zlist.append(z0)\n",
    "\n",
    "    z = z0\n",
    "\n",
    "    while z < 20.2:\n",
    "\n",
    "        data = ode.RK4(forcesoftheball, data, t, h)\n",
    "        t = t + h\n",
    "\n",
    "        x = data[0]\n",
    "        y = data[1]\n",
    "        z = data[2]\n",
    "        tlist.append(t)\n",
    "        xlist.append(x)\n",
    "        ylist.append(y)\n",
    "        zlist.append(z)\n",
    "\n",
    "    return xlist[-1],ylist[-1]"
   ]
  },
  {
   "cell_type": "markdown",
   "id": "c1720396",
   "metadata": {},
   "source": [
    "This is the Cell in which I declare my final x and y lists to plot for the end point of each curveball, after doing this I ran 3 for loops that would loop through each variable to get every possible combination. So that the spray chart will have a large variety of points"
   ]
  },
  {
   "cell_type": "code",
   "execution_count": 26,
   "id": "0230cf20",
   "metadata": {},
   "outputs": [],
   "source": [
    "xfinal = []\n",
    "yfinal = []\n",
    "for thdeg in np.arange(25,65,10):\n",
    "    for ve in np.arange(69,85,2):\n",
    "        for s in np.arange(1500,3000,100):\n",
    "            x,y = runspin(s,ve,thdeg)\n",
    "            xfinal.append(x)\n",
    "            yfinal.append(y)"
   ]
  },
  {
   "cell_type": "markdown",
   "id": "de2e64d0",
   "metadata": {},
   "source": [
    "# Plotting"
   ]
  },
  {
   "cell_type": "markdown",
   "id": "7a49d9bf",
   "metadata": {},
   "source": [
    "In this cell I plot the final spray chart using the x and y final lists conatinaing all of the final positions in those axis"
   ]
  },
  {
   "cell_type": "code",
   "execution_count": 27,
   "id": "b779bb0e",
   "metadata": {},
   "outputs": [
    {
     "data": {
      "image/png": "[encoded data removed]",
      "text/plain": [
       "<Figure size 576x576 with 1 Axes>"
      ]
     },
     "metadata": {
      "needs_background": "light"
     },
     "output_type": "display_data"
    }
   ],
   "source": [
    "# Plot the spray chart\n",
    "plt.figure(figsize = (8,8))\n",
    "plt.title(\"Spray Chart (Batter's Perspective)\")\n",
    "plt.xlabel(\"x (m)\")\n",
    "plt.ylabel(\"Y (m)\")\n",
    "plt.plot(xfinal, yfinal, 'bo', label = \"1500 - 3000 rpm\")\n",
    "plt.xlim(0,np.max(xfinal))\n",
    "plt.ylim(np.min(yfinal),0)\n",
    "plt.legend()\n",
    "plt.show()\n",
    "\n"
   ]
  },
  {
   "cell_type": "markdown",
   "id": "985a8941",
   "metadata": {},
   "source": [
    "In this cell i simply took my same code from my previous project which is also the same from above but instead i have a set velocity, angle and spin rate, and I plot every time step so that you guys can see the motion of the base curveball similiar to that of the previous project."
   ]
  },
  {
   "cell_type": "code",
   "execution_count": 28,
   "id": "c1c240f4",
   "metadata": {},
   "outputs": [
    {
     "data": {
      "image/png": "[encoded data removed]",
      "text/plain": [
       "<Figure size 576x720 with 1 Axes>"
      ]
     },
     "metadata": {
      "needs_background": "light"
     },
     "output_type": "display_data"
    }
   ],
   "source": [
    "t = 0 #time in s\n",
    "h = .008 #time step in s\n",
    "\n",
    "# data for pitch\n",
    "vmag0mph = 79.3 #mph\n",
    "thetadeg = 1 #degx\n",
    "spinrate = 2548\n",
    "\n",
    "# convert units and create initial conditions\n",
    "vmag0 = vmag0mph*0.44704 #convert mph to m/s\n",
    "theta = thetadeg*np.pi/180 #convert deg to rad\n",
    "\n",
    "x0 = 0\n",
    "y0 = 0\n",
    "z0 = 0\n",
    "vx0 = 0\n",
    "vy0 = vmag0*np.sin(theta)   \n",
    "vz0 = vmag0*np.cos(theta)\n",
    "\n",
    "# initial angular speed and velocity\n",
    "omegamag = spinrate * 2*np.pi / 60 #convert to rad/s\n",
    "thetaomega = 45*np.pi/180\n",
    "omega = omegamag*np.array([np.cos(thetaomega), np.sin(thetaomega), 0]) #omegacostheta , omegasintheta for angled pitches\n",
    "#omega = np.array([-omegamag*np.cos(theta), -omegamag*np.sin(theta), 0])\n",
    "# array for instanomega = np.array([-omegamag, 0, 0])taneous position and velocity data\n",
    "data = np.array([x0, y0, z0, vx0, vy0, vz0, omega[0], omega[1], omega[2]])\n",
    "\n",
    "# lists for storing data to graph\n",
    "tlist = []\n",
    "xlist = []\n",
    "ylist = []\n",
    "zlist = []\n",
    "\n",
    "# store initial values\n",
    "tlist.append(t)\n",
    "xlist.append(x0)\n",
    "ylist.append(y0)\n",
    "zlist.append(z0)\n",
    "\n",
    "z = z0\n",
    "\n",
    "while z < 20.2:\n",
    "\n",
    "    data = ode.RK4(forcesoftheball, data, t, h)\n",
    "    t = t + h\n",
    "\n",
    "    x = data[0]\n",
    "    y = data[1]\n",
    "    z = data[2]\n",
    "    tlist.append(t)\n",
    "    xlist.append(x)\n",
    "    ylist.append(y)\n",
    "    zlist.append(z)\n",
    "\n",
    "plt.figure(figsize = (8,10))\n",
    "plt.title(\"Trajectory of a Baseball from a Curveball Pitch\")\n",
    "plt.xlabel(\"x (m)\")\n",
    "plt.ylabel(\"T (s)\")\n",
    "plt.plot(xlist, ylist, 'bo')\n",
    "plt.show()"
   ]
  },
  {
   "cell_type": "code",
   "execution_count": null,
   "id": "0d279917",
   "metadata": {},
   "outputs": [],
   "source": []
  }
 ],
 "metadata": {
  "kernelspec": {
   "display_name": "Python 3 (ipykernel)",
   "language": "python",
   "name": "python3"
  },
  "language_info": {
   "codemirror_mode": {
    "name": "ipython",
    "version": 3
   },
   "file_extension": ".py",
   "mimetype": "text/x-python",
   "name": "python",
   "nbconvert_exporter": "python",
   "pygments_lexer": "ipython3",
   "version": "3.9.7"
  }
 },
 "nbformat": 4,
 "nbformat_minor": 5
}
