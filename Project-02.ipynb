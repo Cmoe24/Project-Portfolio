{
 "cells": [
  {
   "cell_type": "markdown",
   "id": "a6a3a020",
   "metadata": {},
   "source": [
    "# Project 2 - Modeling a Curveball"
   ]
  },
  {
   "cell_type": "markdown",
   "id": "931ed96f",
   "metadata": {},
   "source": [
    "In this project Justin Chen and I wanted to model a curveball using the same ODE, and RK4 methods that I had used in my previous project. The Major question I had in this project was how does velocity effect the displacement of a curveball. My hypothesis was that as you would increase the velocity you would decrease the displacement due to the decrease in time allowed for the spin to effect the balls trajectory"
   ]
  },
  {
   "cell_type": "code",
   "execution_count": 8,
   "id": "6bfa8009",
   "metadata": {},
   "outputs": [],
   "source": [
    "import ode #ode.py should be in the same folder as your notebook\n",
    "import numpy as np\n",
    "import matplotlib.pyplot as plt"
   ]
  },
  {
   "cell_type": "markdown",
   "id": "4fda852a",
   "metadata": {},
   "source": [
    "In this following cell is where i declare the parameters or the constants in my equations. Certain things like the cross-sectional area and the mass, as well as the gravitional constant etc."
   ]
  },
  {
   "cell_type": "code",
   "execution_count": 9,
   "id": "8c927020",
   "metadata": {},
   "outputs": [],
   "source": [
    "#parameters\n",
    "g = 9.8 #N/kg\\\n",
    "rho = 1.2 #kg/m^3\n",
    "mu = 1.8e-5 #kg/m/s\n",
    "r = 74e-3/2 #74 mm diameter, 9.25\" in circumference\n",
    "A = np.pi*r**2 #cross-sectional area\n",
    "Cd = 0.3 #depends on speed\n",
    "m = 0.145 #kg\n",
    "\n",
    "#b2 = 1/2*Cd*rho*A #changes as Cd changes\n",
    "\n",
    "S = 0.01 #will change as omega and v change\n",
    "CL = 0 #will change with S\n",
    "#alpha = 1/2*CL*rho*A*r/S"
   ]
  },
  {
   "cell_type": "markdown",
   "id": "2ec779fb",
   "metadata": {},
   "source": [
    "# Main Function/Equations"
   ]
  },
  {
   "cell_type": "markdown",
   "id": "28b8b661",
   "metadata": {},
   "source": [
    "In this following cell I use the same derivative approach throught the RK4 function in the ODE file that I have used on the previous projects. In this function I most importantly have the equations for the interactions between the ball and air and how that effects velocity and spin. For example I have the equations for the Magnus Effect as well as drag using the drag coefficient. However because this is in a 3d cordinate system i need to account for the X,Y, as well a Z axis."
   ]
  },
  {
   "cell_type": "code",
   "execution_count": 10,
   "id": "e7892972",
   "metadata": {},
   "outputs": [],
   "source": [
    "def forcesoftheball(d, t):\n",
    "    \"\"\" Calculate and return the derivative of each quantity in an array d at the time t.\n",
    "   \n",
    "    Keyword arguments:\n",
    "    t -- time at the beginning of the time step\n",
    "    d -- an array of variables at time t\n",
    "    \"\"\"\n",
    "   \n",
    "    x = d[0]\n",
    "    y = d[1]\n",
    "    z = d[2]\n",
    "    vx = d[3]\n",
    "    vy = d[4]\n",
    "    vz = d[5]\n",
    "    \n",
    "    dxdt = vx\n",
    "    dydt = vy\n",
    "    dzdt = vz\n",
    "    \n",
    "    v = np.sqrt(vx**2 + vy**2 + vz**2)\n",
    "    \n",
    "    #drag\n",
    "    a = 0.36\n",
    "    b = 0.14\n",
    "    c = 0.27\n",
    "    vc = 34\n",
    "    chi = (v-vc)/4\n",
    "    \n",
    "    if chi < 0:\n",
    "        Cd = a + b/(1+np.exp(chi)) - c*np.exp(-chi**2)\n",
    "    else:\n",
    "        Cd = a + b/(1+np.exp(chi)) - c*np.exp(-chi**2/4)\n",
    "    \n",
    "    b2 = 1/2*Cd*rho*A\n",
    "    Fdragx = -b2*v**2*vx/v\n",
    "    Fdragy = -b2*v**2*vy/v\n",
    "    Fdragz = -b2*v**2*vz/v\n",
    "    \n",
    "    #magnus\n",
    "    omegax = d[6]\n",
    "    omegay = d[7]\n",
    "    omegaz = d[8]\n",
    "    omegamag = np.sqrt(omegax**2 + omegay**2 + omegaz**2)\n",
    "    S = r*omegamag/v\n",
    "    CL = 0.62*S**0.7\n",
    "    alpha = 1/2*CL*rho*A*r/S\n",
    "    Fmagnusx = alpha*(omegay*vz - omegaz*vy)\n",
    "    Fmagnusy = alpha*(omegaz*vx - omegax*vz)\n",
    "    Fmagnusz = alpha*(omegax*vy - omegay*vx)\n",
    "    \n",
    "    #grav\n",
    "    Fgravy = -m*g\n",
    "    \n",
    "    #Fnet\n",
    "    Fnetx = Fdragx + Fmagnusx\n",
    "    Fnety = Fdragy + Fmagnusy + Fgravy\n",
    "    Fnetz = Fdragz + Fmagnusz\n",
    "    \n",
    "    #derivative of velocity\n",
    "    dvxdt = Fnetx/m\n",
    "    dvydt = Fnety/m\n",
    "    dvzdt = Fnetz/m\n",
    "    \n",
    "    derivs = np.array([dxdt, dydt, dzdt, dvxdt, dvydt, dvzdt, 0, 0, 0])\n",
    "   \n",
    "    return derivs"
   ]
  },
  {
   "cell_type": "markdown",
   "id": "e38a0f35",
   "metadata": {},
   "source": [
    "# The Looping"
   ]
  },
  {
   "cell_type": "markdown",
   "id": "3df552e5",
   "metadata": {},
   "source": [
    "In this following cell i start by declaring some of the initial variables as well as my used time step, which needed to be a very short time step due to the speed of a pitch and we need an accurate measure. I mark the Velocity at 79.3 mph an average curveball velocity, I then change that into meters per second as we will be using meters as the base measure. I also had to get the corect spin rate as well as the angle of the spin which would be 45 degrees about the x-axis so that it would be a perfect diagnol spin rate. I also create the lists needed to keep track of the variables. In the loop I call the previous function using the RK method as well to do the calculations and keep the loop going until the ball reaches the plate at 20.2 meters. Following this I graph the x and y displacement as well as the Z and y displacement."
   ]
  },
  {
   "cell_type": "code",
   "execution_count": 15,
   "id": "9ae45893",
   "metadata": {},
   "outputs": [
    {
     "data": {
      "image/png": "[encoded data removed]",
      "text/plain": [
       "<Figure size 576x720 with 1 Axes>"
      ]
     },
     "metadata": {
      "needs_background": "light"
     },
     "output_type": "display_data"
    }
   ],
   "source": [
    "t = 0 #time in s\n",
    "h = .008 #time step in s\n",
    "\n",
    "# data for pitch\n",
    "vmag0mph = 79.3 #mph\n",
    "thetadeg = 1 #degx\n",
    "spinrate = 2548\n",
    "\n",
    "# convert units and create initial conditions\n",
    "vmag0 = vmag0mph*0.44704 #convert mph to m/s\n",
    "theta = thetadeg*np.pi/180 #convert deg to rad\n",
    "\n",
    "x0 = 0\n",
    "y0 = 0\n",
    "z0 = 0\n",
    "vx0 = 0\n",
    "vy0 = vmag0*np.sin(theta)   \n",
    "vz0 = vmag0*np.cos(theta)\n",
    "\n",
    "# initial angular speed and velocity\n",
    "omegamag = spinrate * 2*np.pi / 60 #convert to rad/s\n",
    "thetaomega = 45*np.pi/180\n",
    "omega = omegamag*np.array([np.cos(thetaomega), np.sin(thetaomega), 0]) #omegacostheta , omegasintheta for angled pitches\n",
    "#omega = np.array([-omegamag*np.cos(theta), -omegamag*np.sin(theta), 0])\n",
    "# array for instanomega = np.array([-omegamag, 0, 0])taneous position and velocity data\n",
    "data = np.array([x0, y0, z0, vx0, vy0, vz0, omega[0], omega[1], omega[2]])\n",
    "\n",
    "# lists for storing data to graph\n",
    "tlist = []\n",
    "xlist = []\n",
    "ylist = []\n",
    "zlist = []\n",
    "\n",
    "# store initial values\n",
    "tlist.append(t)\n",
    "xlist.append(x0)\n",
    "ylist.append(y0)\n",
    "zlist.append(z0)\n",
    "\n",
    "z = z0\n",
    "\n",
    "while z < 20.2:\n",
    "\n",
    "    data = ode.RK4(forcesoftheball, data, t, h)\n",
    "    t = t + h\n",
    "\n",
    "    x = data[0]\n",
    "    y = data[1]\n",
    "    z = data[2]\n",
    "    tlist.append(t)\n",
    "    xlist.append(x)\n",
    "    ylist.append(y)\n",
    "    zlist.append(z)\n",
    "\n",
    "plt.figure(figsize = (8,10))\n",
    "plt.title(\"Trajectory of a Baseball from a Curveball Pitch\")\n",
    "plt.xlabel(\"x (m)\")\n",
    "plt.ylabel(\"T (s)\")\n",
    "plt.plot(xlist, ylist, 'bo')\n",
    "plt.show()"
   ]
  },
  {
   "cell_type": "code",
   "execution_count": 17,
   "id": "3d256653",
   "metadata": {},
   "outputs": [
    {
     "data": {
      "image/png": "[encoded data removed]",
      "text/plain": [
       "<Figure size 576x720 with 1 Axes>"
      ]
     },
     "metadata": {
      "needs_background": "light"
     },
     "output_type": "display_data"
    }
   ],
   "source": [
    "plt.figure(figsize = (8,10))\n",
    "plt.title(\"Trajectory of a Baseball from a Curveball Pitch\")\n",
    "plt.xlabel(\"Z (m)\")\n",
    "plt.ylabel(\"Y (m)\")\n",
    "plt.plot(zlist, ylist, 'bo')\n",
    "plt.show()"
   ]
  },
  {
   "cell_type": "markdown",
   "id": "a638e996",
   "metadata": {},
   "source": [
    "# What is Velocities Effect?"
   ]
  },
  {
   "cell_type": "markdown",
   "id": "54b9d545",
   "metadata": {},
   "source": [
    "Now after completing the model of a curveball and being able to determine the displacement of the ball over time. I then took the same Cell that i had previous for the next two cells, but to see the difference based on the velocity. In this first cell I used 70 miles per hour curveball and found that ball would only have a little over a 0.1m change in the X displacement but in the Y displacement there was a major .5m increase in the displacement. In the following cell i used 88 miles per hour curveball and found that the ball had just about a 0.1m decrease in the x-axis and about a .4m drop in diplacement for the y-axis"
   ]
  },
  {
   "cell_type": "code",
   "execution_count": 20,
   "id": "4f8d4964",
   "metadata": {},
   "outputs": [
    {
     "data": {
      "image/png": "[encoded data removed]",
      "text/plain": [
       "<Figure size 576x720 with 1 Axes>"
      ]
     },
     "metadata": {
      "needs_background": "light"
     },
     "output_type": "display_data"
    }
   ],
   "source": [
    "t = 0 #time in s\n",
    "h = .008 #time step in s\n",
    "\n",
    "# data for pitch\n",
    "vmag0mph = 70 #mph\n",
    "thetadeg = 1 #degx\n",
    "spinrate = 2548\n",
    "\n",
    "# convert units and create initial conditions\n",
    "vmag0 = vmag0mph*0.44704 #convert mph to m/s\n",
    "theta = thetadeg*np.pi/180 #convert deg to rad\n",
    "\n",
    "x0 = 0\n",
    "y0 = 0\n",
    "z0 = 0\n",
    "vx0 = 0\n",
    "vy0 = vmag0*np.sin(theta)   \n",
    "vz0 = vmag0*np.cos(theta)\n",
    "\n",
    "# initial angular speed and velocity\n",
    "omegamag = spinrate * 2*np.pi / 60 #convert to rad/s\n",
    "thetaomega = 45*np.pi/180\n",
    "omega = omegamag*np.array([np.cos(thetaomega), np.sin(thetaomega), 0]) #omegacostheta , omegasintheta for angled pitches\n",
    "#omega = np.array([-omegamag*np.cos(theta), -omegamag*np.sin(theta), 0])\n",
    "# array for instanomega = np.array([-omegamag, 0, 0])taneous position and velocity data\n",
    "data = np.array([x0, y0, z0, vx0, vy0, vz0, omega[0], omega[1], omega[2]])\n",
    "\n",
    "# lists for storing data to graph\n",
    "tlist = []\n",
    "xlist = []\n",
    "ylist = []\n",
    "zlist = []\n",
    "\n",
    "# store initial values\n",
    "tlist.append(t)\n",
    "xlist.append(x0)\n",
    "ylist.append(y0)\n",
    "zlist.append(z0)\n",
    "\n",
    "z = z0\n",
    "\n",
    "while z < 20.2:\n",
    "\n",
    "    data = ode.RK4(forcesoftheball, data, t, h)\n",
    "    t = t + h\n",
    "\n",
    "    x = data[0]\n",
    "    y = data[1]\n",
    "    z = data[2]\n",
    "    tlist.append(t)\n",
    "    xlist.append(x)\n",
    "    ylist.append(y)\n",
    "    zlist.append(z)\n",
    "\n",
    "plt.figure(figsize = (8,10))\n",
    "plt.title(\"Trajectory of a Baseball from a Curveball Pitch\")\n",
    "plt.xlabel(\"x (m)\")\n",
    "plt.ylabel(\"T (s)\")\n",
    "plt.plot(xlist, ylist, 'bo')\n",
    "plt.show()"
   ]
  },
  {
   "cell_type": "code",
   "execution_count": 21,
   "id": "819edd7b",
   "metadata": {},
   "outputs": [
    {
     "data": {
      "image/png": "[encoded data removed]",
      "text/plain": [
       "<Figure size 576x720 with 1 Axes>"
      ]
     },
     "metadata": {
      "needs_background": "light"
     },
     "output_type": "display_data"
    }
   ],
   "source": [
    "t = 0 #time in s\n",
    "h = .008 #time step in s\n",
    "\n",
    "# data for pitch\n",
    "vmag0mph = 88 #mph\n",
    "thetadeg = 1 #degx\n",
    "spinrate = 2548\n",
    "\n",
    "# convert units and create initial conditions\n",
    "vmag0 = vmag0mph*0.44704 #convert mph to m/s\n",
    "theta = thetadeg*np.pi/180 #convert deg to rad\n",
    "\n",
    "x0 = 0\n",
    "y0 = 0\n",
    "z0 = 0\n",
    "vx0 = 0\n",
    "vy0 = vmag0*np.sin(theta)   \n",
    "vz0 = vmag0*np.cos(theta)\n",
    "\n",
    "# initial angular speed and velocity\n",
    "omegamag = spinrate * 2*np.pi / 60 #convert to rad/s\n",
    "thetaomega = 45*np.pi/180\n",
    "omega = omegamag*np.array([np.cos(thetaomega), np.sin(thetaomega), 0]) #omegacostheta , omegasintheta for angled pitches\n",
    "#omega = np.array([-omegamag*np.cos(theta), -omegamag*np.sin(theta), 0])\n",
    "# array for instanomega = np.array([-omegamag, 0, 0])taneous position and velocity data\n",
    "data = np.array([x0, y0, z0, vx0, vy0, vz0, omega[0], omega[1], omega[2]])\n",
    "\n",
    "# lists for storing data to graph\n",
    "tlist = []\n",
    "xlist = []\n",
    "ylist = []\n",
    "zlist = []\n",
    "\n",
    "# store initial values\n",
    "tlist.append(t)\n",
    "xlist.append(x0)\n",
    "ylist.append(y0)\n",
    "zlist.append(z0)\n",
    "\n",
    "z = z0\n",
    "\n",
    "while z < 20.2:\n",
    "\n",
    "    data = ode.RK4(forcesoftheball, data, t, h)\n",
    "    t = t + h\n",
    "\n",
    "    x = data[0]\n",
    "    y = data[1]\n",
    "    z = data[2]\n",
    "    tlist.append(t)\n",
    "    xlist.append(x)\n",
    "    ylist.append(y)\n",
    "    zlist.append(z)\n",
    "\n",
    "plt.figure(figsize = (8,10))\n",
    "plt.title(\"Trajectory of a Baseball from a Curveball Pitch\")\n",
    "plt.xlabel(\"x (m)\")\n",
    "plt.ylabel(\"T (s)\")\n",
    "plt.plot(xlist, ylist, 'bo')\n",
    "plt.show()"
   ]
  },
  {
   "cell_type": "markdown",
   "id": "919749bf",
   "metadata": {},
   "source": [
    "# Conclussion"
   ]
  },
  {
   "cell_type": "markdown",
   "id": "1631a646",
   "metadata": {},
   "source": [
    "In conclussion after succesfully being able to model the curveball and keep track of the displacement fomr the pitchers hand to the plate. I found that my hypothesis was infact correct and that the fater the curveball is thrown the lower the displacement is due to the decrease in time for gravity and the spin to effect the balls trajectory"
   ]
  },
  {
   "cell_type": "code",
   "execution_count": null,
   "id": "c2a85f90",
   "metadata": {},
   "outputs": [],
   "source": []
  }
 ],
 "metadata": {
  "kernelspec": {
   "display_name": "Python 3 (ipykernel)",
   "language": "python",
   "name": "python3"
  },
  "language_info": {
   "codemirror_mode": {
    "name": "ipython",
    "version": 3
   },
   "file_extension": ".py",
   "mimetype": "text/x-python",
   "name": "python",
   "nbconvert_exporter": "python",
   "pygments_lexer": "ipython3",
   "version": "3.9.7"
  }
 },
 "nbformat": 4,
 "nbformat_minor": 5
}
